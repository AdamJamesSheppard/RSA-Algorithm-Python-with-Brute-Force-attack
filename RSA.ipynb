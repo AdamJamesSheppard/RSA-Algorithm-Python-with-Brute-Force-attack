{
 "cells": [
  {
   "cell_type": "markdown",
   "metadata": {
    "collapsed": false,
    "deletable": false,
    "editable": false,
    "nbgrader": {
     "grade": false,
     "grade_id": "f92ff6",
     "locked": true,
     "schema_version": 3,
     "solution": false,
     "task": false
    }
   },
   "source": [
    "# RSA Public Key Cryptography\n",
    "\n",
    "Let $p,q$ be two distinct primes in the range $10^6$ to $2\\times 10^6$. Define\n",
    "$$\n",
    "N=pq\\qquad \\varphi=(p-1)(q-1)\n",
    "$$\n",
    "Let $e$ be coprime with $\\varphi$, and define $d$ to be such that\n",
    "$$\n",
    "ed\\equiv 1\\text{ mod }\\varphi\n",
    "$$\n",
    "This information yields the public key $(e,N)$ and the private key $(d,N)$ for the RSA cryptosystem, which can be used to encrypt messages $M$, represented as a number $M<10^6$.\n",
    "\n",
    "```py\n",
    "generate_key()\n",
    "RSAencrypt(public,message)\n",
    "RSAdecrypt(private,message)\n",
    "HackRSA(public)\n",
    "```\n",
    "``generate_key`` should create an appropriate key based on the parameters above, and return the public key, the private key, and $\\varphi$ (in that order).  Strictly, $\\varphi$ is not necessary, but it is useful for checking.\n",
    "\n",
    "``RSAencrypt`` uses the provided ``public`` key to encrypt the message. However, the message should be provided as a string, so the code will have to convert it into something that can be encrypted. The function should return the encoded message.\n",
    "\n",
    "``RSAdecrypt`` uses the private key to decode the message (such as one returned by ``RSAencrypt``, returning the text of the original message.\n",
    "\n",
    "``hackrsa`` should take a public key and try to find a corresponding private key by brute force (i.e. without knowledge of $\\varphi$). it should return the private key.\n",
    "\n",
   ]
  },
  {
   "cell_type": "code",
   "execution_count": 6,
   "metadata": {
    "collapsed": false
   },
   "outputs": [],
   "source": [
    "\n",
    "def egcd(p, q):\n",
    "    '''returns the modular inverse\n",
    "    g = gcd(p,q)\n",
    "    x = co-efficient s of the diophantine equation (chosen value)\n",
    "    y = co-efficient t of the diophantine equation\n",
    "    sx + ty = gcd(a,b)\n",
    "\n",
    "    This function is a helper function designed to aid the calculation of the decryption key,\n",
    "    this function calculates the co-efficients of the diophantine equation created from the\n",
    "    modular congruence relation d = e^-1 (mod phi). The decryption key is returned, since\n",
    "    e and phi are corpime.\n",
    "\n",
    "    since the returned values can come out negative another a helper function which calls this\n",
    "    function has been created below to aid in making this value strictly positive to avoid any complications\n",
    "    with modular arithmetic , the function below returns a positive value in the assumed equivilance class.\n",
    "\n",
    "    The equivilance class does not need to be recorded as this can be easily computed without problems.\n",
    "    \n",
    "    source https://en.wikipedia.org/wiki/Extended_Euclidean_algorithm'''\n",
    "#    if p == 0:\n",
    "#        return (q, 0, 1)\n",
    "#    g, y, x = egcd(q % p, p)\n",
    "#    return (g, x - (q // p) * y, y)\n",
    "    s = 0\n",
    "    old_s = 1\n",
    "    t = 1 \n",
    "    old_t = 0\n",
    "    r = q\n",
    "    old_r = p\n",
    "\n",
    "    while r != 0:\n",
    "        quotient = old_r // r\n",
    "        old_r, r = r, old_r - quotient * r\n",
    "        old_s, s = s, old_s - quotient * s\n",
    "        old_t, t = t, old_t - quotient * t\n",
    "    return old_r, old_s, old_t\n",
    "  # return gcd, x, y"
   ]
  },
  {
   "cell_type": "code",
   "execution_count": 7,
   "metadata": {
    "collapsed": false
   },
   "outputs": [],
   "source": [
    "def gcd(p, q):\n",
    "    while q:\n",
    "        p, q = q, p % q\n",
    "    return p\n"
   ]
  },
  {
   "cell_type": "code",
   "execution_count": 8,
   "metadata": {
    "collapsed": false
   },
   "outputs": [],
   "source": [
    "def modInverse(p, q):\n",
    "    '''returns the modular inverse \n",
    "    g = gcd(p,q)\n",
    "    x = co-efficient s of the diophantine equation (chosen value)\n",
    "    y = co-efficient t of the diophantine equation\n",
    "    sx + ty = gcd(a,b)\n",
    "\n",
    "    This function is a helper function designed to aid the calculation of the decryption key, \n",
    "    this function calculates the co-efficients of the diophantine equation created from the \n",
    "    modular congruence relation d = e^-1 (mod phi). The decryption key is returned, since \n",
    "    e and phi are corpime.'''\n",
    "    g, x, y = egcd(p, q)\n",
    "    if x < 0:\n",
    "        x += q\n",
    "    assert x > 0, 'x cannot be negative, add the modular base'\n",
    "    return x\n"
   ]
  },
  {
   "cell_type": "code",
   "execution_count": 9,
   "metadata": {
    "collapsed": false
   },
   "outputs": [],
   "source": [
    "def generate_key(): # removed input, the input is not needed, this simplifies the calling of the code, an input was not required by the specification given by the instructor. The name has also been changed, also, to match the specifcation.\n",
    "    '''To generate a key pair, \n",
    "\n",
    "    by first calculating the public key n, by multiplying two large prime numbers p and q calculated ealier, \n",
    "    and then calculating the number of all values co-prime to p and q. A random number out of the set of co-primes \n",
    "    is chosen (1 <= e <= phi(n)), it is checked via the euclidean algorithm that it is coprime by returning a value of 1. If this is the case\n",
    "    then this number is chosen to be the value for the encryption key e for the pair (e,n)\n",
    "\n",
    "    The modular inverse of e and the totient is calculated. This is solving the congruence relation \n",
    "    d = (e^-1) (mod phi) which is calculated via the extended euclidean algorithm egcd(p,q). Then applying modInverse(p,q) The value X \n",
    "    from the diophantine equation is chosen and that is the value of d'''\n",
    "\n",
    "    import random as random\n",
    "    p = random.choice(random_number())\n",
    "    q = random.choice(random_number())\n",
    "    assert CheckPrime(p) and CheckPrime(q) == True\n",
    "    assert p != q  # cannot have the same primes, too insecure\n",
    "    n = p * q  # used as the modulus for both public and private keys, released as part of the public key\n",
    "    # Euler's toient function, counts positive integers up to n therefore givnig a key set we can choose from\n",
    "    phi = (q - 1)*(p - 1)\n",
    "    while True:\n",
    "        e = random.randrange(1, phi)  # choose a number within that set\n",
    "        if (gcd(e, phi) == 1):\n",
    "            break\n",
    "    assert gcd(e, phi) == 1, ' e is not coprime'\n",
    "    # EEA used to generate the private key\n",
    "    d = modInverse(e, phi)  # d = decryption key\n",
    "    return ((e, n), (d, n), phi)\n"
   ]
  },
  {
   "cell_type": "code",
   "execution_count": 10,
   "metadata": {
    "collapsed": false
   },
   "outputs": [],
   "source": [
    "def RSAencrypt(public, message):\n",
    "    assert isinstance(message, str)\n",
    "    assert isinstance(public, tuple)\n",
    "    '''key, n = public[0], public[1]  # we need both components of the key\n",
    "    # convert each letter of the plaintext into numbers based upon the character\n",
    "    # for this we can encode the message with m^e mod n, m is message, n is prime pair, e is key\n",
    "    cipher_text = [int(ord((character)) ** key) % n for character in message]\n",
    "    cipher_text = ' '.join(str(character) for character in cipher_text)\n",
    "    # post conditon\n",
    "    assert isinstance(cipher_text, str)\n",
    "    return (cipher_text).replace(' ', '')\n",
    "    \n",
    "    This function converts each letter of a string parsed into it, the string is broken up into \n",
    "    numerical values and encrypted with the public key (e, n). Then a numerical version of the\n",
    "    string is returned to be decrypted.'''\n",
    "    cipher = ''\n",
    "    # split the tuple into its parts for use\n",
    "    key, n = int(public[0]), int(public[1])\n",
    "    for character in message:  # loops over each character pulling each one out of the string\n",
    "        # get the numerical value of each character\n",
    "        message_split = ord(character)\n",
    "        # applys m^e (mod n ) to encrypt each characters numerical value and then add a space between each word\n",
    "        cipher += str(pow(message_split, key, n)) + \" \"\n",
    "    assert isinstance(cipher, str)\n",
    "    return cipher  # returns a string of numerical values\n"
   ]
  },
  {
   "cell_type": "code",
   "execution_count": 11,
   "metadata": {
    "collapsed": false
   },
   "outputs": [],
   "source": [
    "def RSAdecrypt(private, message):\n",
    "    '''\n",
    "    key = int(private[0])\n",
    "    n = int(private[1])\n",
    "    # we can use a similar encoding function but using the private key instead\n",
    "    # this is the reverse the encryption so we can see the plaintext again\n",
    "    plaintext = [((ord(character) ** key) % n) for character in message]\n",
    "    plaintext = ' '.join(str(character) for character in message)\n",
    "    # the equation used here is m^d mod n\n",
    "    assert isinstance(plaintext, str)\n",
    "\n",
    "    This function takes in a numerical string encrypted with the public key, applies the decryption \n",
    "    function by applying the private key (d, n) converts the string into a list and decrypts each letter \n",
    "    and then returns a string of characters that should match the intended message.\n",
    "    '''\n",
    "    decrypted_message = ''  # empty string to store the message\n",
    "    # converts the string into an list of strings, with no delimiter\n",
    "    message_parts = message.split()\n",
    "    for each_part in message_parts:  # loops over each entry of the list\n",
    "        # converts the string parts into integer, corresponding to each character\n",
    "        character = int(each_part)\n",
    "        # applys m^d (mod n) to decrypt each integer and then applys character function to find the corresponding charcter\n",
    "        decrypted_message += chr(pow(character,\n",
    "                                 int(private[0]), int(private[1])))\n",
    "        # then add's that character to the decrypted_message string above.\n",
    "\n",
    "    # str(plaintext).replace(' ', '') returns the deciphered message in string format\n",
    "    return decrypted_message\n"
   ]
  },
  {
   "cell_type": "code",
   "execution_count": 30,
   "metadata": {
    "collapsed": false
   },
   "outputs": [],
   "source": [
    "def CheckPrime(n):\n",
    "    '''This function will be checking whether the prime pair is indeed two primes being multiplied together\n",
    "    we will be using a basic division algorithm to check whether the given value is evenly divsible\n",
    "    by checking whether the congruence relation is 0, therefore, there is a remainder of 0 and hence the\n",
    "    number has more than one divisor.\n",
    "\n",
    "    if x mod y = 0 then y|x -> |{1, y, x}| > 2\n",
    "\n",
    "    if so then n is composite otherwise it must be prime. \n",
    "    all primes greater than 3 are of the form 6k ± 1, \n",
    "    where k is any integer greater than 0. This is because all integers can be expressed as (6k + i), \n",
    "    where i = −1, 0, 1, 2, 3, or 4. Note that 2 divides (6k + 0), (6k + 2), and (6k + 4) and 3 divides \n",
    "    (6k + 3). So, a more efficient method is to test whether n is divisible by 2 or 3, then to check \n",
    "    through all numbers of the form (6k+1)<= √n This is 3 times faster than testing all numbers up to √n'''\n",
    "\n",
    "    if n <= 3:\n",
    "        return n > 1\n",
    "    if n % 2 == 0 or n % 3 == 0:\n",
    "        return False\n",
    "    i = 5\n",
    "    while i ** 2 <= n:\n",
    "        if n % i == 0 or n % (i + 2) == 0:\n",
    "            return False\n",
    "        i += 6\n",
    "    return True\n"
   ]
  },
  {
   "cell_type": "code",
   "execution_count": 31,
   "metadata": {
    "collapsed": false
   },
   "outputs": [],
   "source": [
    "def random_number():\n",
    "     \"\"\"creates a random number between 1 million and 2 million with a foor loop which is then fed straight into the encryption algorithm.\n",
    "        This function will be called twice and return p and q. \n",
    "    Returns:\n",
    "        [int]: [random key, p and q.]\n",
    "    \"\"\"    \n",
    "    import random as random\n",
    "    prime_list = []  # create a list to store the primes in\n",
    "    # use a for loop to iterate over all numbers in the range\n",
    "    for temp in range(1000000, 2000000):\n",
    "        # check each number with the algorithm defined above\n",
    "        if CheckPrime(temp) == True:\n",
    "            # add the number to the list if it passes\n",
    "            prime_list.append(temp)\n",
    "        else:\n",
    "            continue  # continue if it fails\n",
    "    return prime_list  # gives the list back so we can choose a prime from it later\n"
   ]
  },
  {
   "cell_type": "code",
   "execution_count": null,
   "metadata": {
    "collapsed": false
   },
   "outputs": [],
   "source": []
  },
  {
   "cell_type": "code",
   "execution_count": 58,
   "metadata": {
    "collapsed": false
   },
   "outputs": [],
   "source": [
    "def FindFactors(n):\n",
    "    '''A function that loops through all numbers from 1,...,n and checks whether the n (mod i) = 0 suggesting that if it does \n",
    "    then the number i is a divisor of n, since n is the product of two primes, it must be the correspodning prime.'''\n",
    "    for i in range(3, n): # loops through all possible values of i between 3,..,n, missing out two because the value 2 is too insecure, therefore, not used.\n",
    "        if n % i == 0: # is n (mod i) = 0, then i is a divisor of n\n",
    "            print(i)\n",
    "            return i # returns a single value for i, since there will be one and only one value since p and q are both prime."
   ]
  },
  {
   "cell_type": "code",
   "execution_count": 59,
   "metadata": {
    "collapsed": false
   },
   "outputs": [],
   "source": [
    "def HackRSA(public):\n",
    "    \"\"\"a function that takes in the public key, n and uses, just n. Then calls a factorisation function to factor n into at least one prime, after that HackRSA() will divide n with the newly aquired prime to obtain the second prime needed by taking advantage than there is only one other factor multiplies with p to create n. The inverse modulo is taken, as in the normal algorithm design to obtain the private key. \n",
    "\n",
    "    Args:\n",
    "        public (type: tuple): public key pair (e, N) passed as a single argument.\n",
    "\n",
    "    Returns:\n",
    "        private (type: tupple): private key par (d, N) used for decrypting the text encrypted by the public key \n",
    "    \"\"\"  \n",
    "    e, n = public[0], public[1]\n",
    "    p = FindFactors(n) # returns the prime p\n",
    "    q = n//p # divide the two primes, since there is only one factor python will return the prime p with ease. \n",
    "    phi_n = (p-1) * (q-1) # now we know phi(n)\n",
    "    d_crack = modInverse(e, phi_n) # same method as before (explained above) return the x-value from the diophantine equation generated       from the congruence relation which returns the inverse modulo n\n",
    "    private_key = (d_crack, n)\n",
    "   \n",
    "    return private_key"
   ]
  },
  {
   "cell_type": "code",
   "execution_count": null,
   "metadata": {
    "collapsed": false
   },
   "outputs": [],
   "source": []
  },
  {
   "cell_type": "code",
   "execution_count": 60,
   "metadata": {
    "cocalc": {
     "outputs": {
      "1": {
       "name": "input",
       "opts": {
        "password": false,
        "prompt": "enter your message: "
       },
       "output_type": "stream",
       "value": "hello"
      }
     }
    },
    "collapsed": false,
    "deletable": false,
    "editable": false,
    "nbgrader": {
     "grade": true,
     "grade_id": "func_defs_as_spec",
     "locked": true,
     "points": 2,
     "schema_version": 3,
     "solution": false
    }
   },
   "outputs": [],
   "source": [
    "# test that the required functions have been defined, with the correct number of arguments, and a docstring"
   ]
  },
  {
   "cell_type": "code",
   "execution_count": 2,
   "metadata": {
    "collapsed": false
   },
   "outputs": [],
   "source": [
    "def doTests():\n",
    "    public, private = (1397818337767, 2275920587089), (311472637591, 2275920587089)\n",
    "    message = '2099904370324 831473277125 463108915468 463108915468 1355885267360 1229412856174 564520412531 377870799724 1229412856174 33832418200 484658791872 564520412531 831473277125 1229412856174 688700027964 1039012423480 1229412856174 484658791872 285366529721 484658791872 564520412531 '\n",
    "    assert RSAencrypt(public, 'hello my name is adam') == message\n",
    "    assert RSAdecrypt(private, message) == 'hello my name is adam'\n",
    "    assert CheckPrime(1433513) and CheckPrime(1164439) == True\n",
    "    assert gcd(1433513 ,1164439) == 1\n",
    "    assert egcd(1433513, 1164439) == (1, 197541, -243188)\n",
    "    assert modInverse(1433513, 1164439) == 197541\n",
    "    assert HackRSA((1397818337767, 2275920587089)) == (311472637591, 2275920587089)\n",
    "    assert isinstance(HackRSA(public), tuple)\n",
    "    assert isinstance(random_number(), list)"
   ]
  },
  {
   "cell_type": "code",
   "execution_count": 64,
   "metadata": {
    "collapsed": false
   },
   "outputs": [
    {
     "name": "stdout",
     "output_type": "stream",
     "text": [
      "1506457\n"
     ]
    },
    {
     "name": "stdout",
     "output_type": "stream",
     "text": [
      "1506457\n"
     ]
    }
   ],
   "source": [
    "doTests()"
   ]
  },
  {
   "cell_type": "code",
   "execution_count": 65,
   "metadata": {
    "cocalc": {
     "outputs": {
      "1": {
       "name": "input",
       "opts": {
        "password": false,
        "prompt": "enter your message: "
       },
       "output_type": "stream",
       "value": "hello"
      }
     }
    },
    "collapsed": false,
    "deletable": false,
    "editable": false,
    "nbgrader": {
     "grade": true,
     "grade_id": "func_defs_as_spec",
     "locked": true,
     "points": 2,
     "schema_version": 3,
     "solution": false
    }
   },
   "outputs": [],
   "source": [
    "# test that the required functions have been defined, with the correct number of arguments, and a docstring\n"
   ]
  },
  {
   "cell_type": "markdown",
   "metadata": {
    "collapsed": false,
    "deletable": false,
    "editable": false,
    "nbgrader": {
     "grade": false,
     "grade_id": "23a6f4",
     "locked": true,
     "schema_version": 3,
     "solution": false,
     "task": false
    }
   },

}
